# Python Database Questions

## MySQL
import mysql.connector

#Establish a connection
try:
    connection = mysql.connector.connect(
        host='localhost', # Your database host
        user='iquser',    # Your MySQL username
        password='iqpassword', # Your MySQL password
        database='iqdb'  # Name of the database you want to connect to
    )

    # Check if the connection is successful
    if connection.is_connected():
        db_info = connection.get_server_info()
        print(f"Connected to MySQL Server version {db_info}")

        # Create a cursor object to interact with the database
        cursor = connection.cursor()
        
        # Example: Execute a simple query
        cursor.execute("SELECT DATABASE();")
        
        # Fetch the result
        db_name = cursor.fetchone()
        print(f"You're connected to database: {db_name[0]}")

except mysql.connector.Error as e:
    print(f"Error connecting to MySQL Platform: {e}")

finally:
    # Close the connection
    if connection.is_connected():
        cursor.close()
        connection.close()
        print("MySQL connection is closed")


